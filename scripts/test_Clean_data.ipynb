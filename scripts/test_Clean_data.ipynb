{
 "cells": [
  {
   "cell_type": "code",
   "execution_count": null,
   "id": "346637c3",
   "metadata": {},
   "outputs": [],
   "source": [
    "pip install great-expectations"
   ]
  },
  {
   "cell_type": "code",
   "execution_count": null,
   "id": "da71c9d7",
   "metadata": {},
   "outputs": [],
   "source": [
    "from great_expectations.dataset import PandasDataset\n",
    "import pandas as pd\n",
    "\n",
    "# Loading the actual dataset\n",
    "actual_data = PandasDataset(pd.read_csv(\"Clean_data.csv\"))\n",
    "\n",
    "# Basic Expectations\n",
    "def test_actual_data_integrity():\n",
    "    # Checking existence and null values for key columns\n",
    "    assert actual_data.expect_column_to_exist(\"sideb\").success\n",
    "    assert actual_data.expect_column_to_exist(\"sidea\").success\n",
    "    assert actual_data.expect_column_values_to_not_be_null(\"country_primary\").success\n",
    "    assert actual_data.expect_column_values_to_not_be_null(\"NSAdyad_id\").success\n",
    "\n",
    "# Schema Validation\n",
    "def test_actual_data_schema():\n",
    "    schema = {\n",
    "        \"sideb\": \"string\",\n",
    "        \"sideb_full\": \"string\",\n",
    "        \"country_primary\": \"string\",\n",
    "        \"sidea\": \"string\",\n",
    "        \"sideb_id\": \"int\",\n",
    "        \"NSAdyad_id\": \"int\",\n",
    "        \"frontline_prev_best\": \"float\",\n",
    "        \"frontline\": \"float\",\n",
    "        \"lead\": \"float\"\n",
    "    }\n",
    "    for col, dtype in schema.items():\n",
    "        assert actual_data.expect_column_values_to_be_of_type(col, dtype).success\n",
    "\n",
    "# Relationship Checks\n",
    "def test_actual_data_relationships():\n",
    "    # Example: frontline must always be greater than or equal to frontline_prev_best\n",
    "    assert actual_data.expect_column_pair_values_a_to_be_greater_than_or_equal_to_b(\n",
    "        \"frontline\", \"frontline_prev_best\"\n",
    "    ).success\n",
    "\n",
    "    # Example: lead values should be greater than zero\n",
    "    assert actual_data.expect_column_values_to_be_greater_than(\n",
    "        \"lead\", 0\n",
    "    ).success\n",
    "\n",
    "    # Example: Check correlation between columns, if applicable\n",
    "    assert actual_data.expect_column_pair_values_to_be_in_set(\n",
    "        \"sideb\", \"sidea\"\n",
    "    ).success\n",
    "\n",
    "if __name__ == \"__main__\":\n",
    "    test_actual_data_integrity()\n",
    "    test_actual_data_schema()\n",
    "    test_actual_data_relationships()\n",
    "\n",
    "    print(\"All tests passed successfully!\")"
   ]
  }
 ],
 "metadata": {
  "kernelspec": {
   "display_name": "Python 3 (ipykernel)",
   "language": "python",
   "name": "python3"
  },
  "language_info": {
   "codemirror_mode": {
    "name": "ipython",
    "version": 3
   },
   "file_extension": ".py",
   "mimetype": "text/x-python",
   "name": "python",
   "nbconvert_exporter": "python",
   "pygments_lexer": "ipython3",
   "version": "3.9.7"
  }
 },
 "nbformat": 4,
 "nbformat_minor": 5
}
